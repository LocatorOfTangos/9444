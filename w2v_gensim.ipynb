{
 "cells": [
  {
   "cell_type": "code",
   "execution_count": 11,
   "metadata": {
    "collapsed": true
   },
   "outputs": [
    {
     "name": "stdout",
     "output_type": "stream",
     "text": [
      " 1    3685\n",
      "-1    2106\n",
      "Name: Sentiment, dtype: int64\n"
     ]
    }
   ],
   "source": [
    "import torch\n",
    "import torch.nn as nn\n",
    "import torch.optim as optim\n",
    "import torch.nn.functional as F\n",
    "import numpy as np\n",
    "import pandas as pd\n",
    "import re\n",
    "from nltk.stem import WordNetLemmatizer\n",
    "from nltk.corpus import stopwords\n",
    "from collections import Counter\n",
    "\n",
    "with open('stock_data.csv', encoding='utf8') as csvfile:\n",
    "    df = pd.read_csv(csvfile, delimiter=',')\n",
    "\n",
    "df.dropna(axis=0, how='any', inplace=True)                         # Excludes null-containing rows\n",
    "print(df['Sentiment'].value_counts())"
   ]
  },
  {
   "cell_type": "code",
   "execution_count": 12,
   "outputs": [],
   "source": [
    "# Regex removal of various undesirable parts of a tweet\n",
    "def clean_tweet(tweet):\n",
    "  tweet = re.sub(r\"@[A-Za-z0-9]+\", ' ', tweet) # Twitter handle removal\n",
    "  tweet = re.sub(r\"https?://[A-Za-z0-9./]+\", ' ', tweet) # URL removal\n",
    "  tweet = re.sub(r\"[']\", \"\", tweet) # Apostrophe removal\n",
    "  tweet = re.sub(r\"[^a-zA-Z.!?]\", ' ', tweet) # Remove symbols that are not alphabetic or sentence endings\n",
    "  tweet = re.sub(r\"([^a-zA-Z])\", r\" \\1 \", tweet) # Places spaces around sentence endings,\n",
    "  # so they are encoded as their own words, rather than being lumped in with other words.\n",
    "  tweet = re.sub(r\" +\", ' ', tweet) # Excess whitespace removal\n",
    "  tweet = tweet.lower() # Send tweet to lowercase\n",
    "  return tweet"
   ],
   "metadata": {
    "collapsed": false
   }
  },
  {
   "cell_type": "code",
   "execution_count": 13,
   "outputs": [],
   "source": [
    "# Prepare word lemmatizer and stopwords list for sanitisation\n",
    "lemmatizer = WordNetLemmatizer()\n",
    "stops = set(stopwords.words('english'))\n",
    "\n",
    "def sanitise(tweet):\n",
    "    tweet = clean_tweet(tweet)\n",
    "    tweet = filter(lambda w: w not in stops, tweet.strip().split()) # Remove stopwords\n",
    "    return list(map(lemmatizer.lemmatize, tweet)) # Lemmatize words."
   ],
   "metadata": {
    "collapsed": false
   }
  },
  {
   "cell_type": "code",
   "execution_count": 14,
   "outputs": [
    {
     "data": {
      "text/plain": "0       [kicker, watchlist, xide, tit, soq, pnk, cpw, ...\n1       [user, aap, movie, ., return, fea, geed, indic...\n2       [user, id, afraid, short, amzn, looking, like,...\n3                                               [mnta, .]\n4                                                 [oi, .]\n                              ...                        \n5786    [industry, body, cii, said, discoms, likely, s...\n5787    [gold, price, slip, r, investor, book, profit,...\n5788    [worker, bajaj, auto, agreed, wage, cut, perio...\n5789    [sharemarket, live, sensex, day, high, point, ...\n5790    [sensex, nifty, climb, day, high, still, key, ...\nName: Text, Length: 5791, dtype: object"
     },
     "execution_count": 14,
     "metadata": {},
     "output_type": "execute_result"
    }
   ],
   "source": [
    "df['Text'].map(sanitise)"
   ],
   "metadata": {
    "collapsed": false
   }
  },
  {
   "cell_type": "code",
   "execution_count": 15,
   "outputs": [],
   "source": [
    "from gensim.models.word2vec import Word2Vec\n",
    "sentences = list(df['Text'].map(sanitise))\n",
    "model= Word2Vec(sentences)      # default size=100, sg=0 CBOW, min_count=5\n",
    "model.save('word2vec.model')  # save model\n",
    "loaded_model = Word2Vec.load('word2vec.model')  # load model"
   ],
   "metadata": {
    "collapsed": false
   }
  },
  {
   "cell_type": "code",
   "execution_count": 16,
   "outputs": [],
   "source": [
    "from gensim.models import KeyedVectors\n",
    "wv = model.wv # get word vector\n",
    "del model # delete model\n",
    "wv.save('word_vector') # save word vectors\n",
    "loaded_wv = KeyedVectors.load('word_vector', mmap='r') # load saved word vectors"
   ],
   "metadata": {
    "collapsed": false
   }
  },
  {
   "cell_type": "code",
   "execution_count": 9,
   "outputs": [
    {
     "data": {
      "text/plain": "array([-0.10369869,  0.53822696,  0.16187547,  0.08480155, -0.04335291,\n       -0.5769972 ,  0.45708922,  1.0282371 , -0.17969818, -0.18205358,\n       -0.12290734, -0.53705883, -0.18131688,  0.43425286, -0.1035592 ,\n       -0.265191  ,  0.2188293 , -0.09301266,  0.13381553, -1.0547245 ,\n        0.37065858,  0.01911997,  0.20705305, -0.1713221 , -0.15284374,\n       -0.02800358, -0.23205748, -0.25530067, -0.5764056 ,  0.01211332,\n        0.35646   , -0.15278113,  0.29542106, -0.39232957, -0.2796067 ,\n        0.38709983,  0.01232796, -0.43148988, -0.18238744, -1.1717057 ,\n       -0.02951602, -0.1951926 , -0.03740108, -0.08533804,  0.5236154 ,\n       -0.02411415, -0.1464998 ,  0.10647264,  0.29031974,  0.12835954,\n        0.0192575 , -0.33260703, -0.17543937, -0.02802198, -0.08372337,\n        0.41721797,  0.10505386,  0.00385863, -0.45018554, -0.06618115,\n       -0.15038341,  0.29844606, -0.28011253,  0.10995841, -0.5077389 ,\n        0.38989237,  0.16870242,  0.35169712, -0.33229858,  0.4717077 ,\n       -0.14147145,  0.00565605,  0.35616422, -0.08818377,  0.5842896 ,\n        0.07149941, -0.01433763, -0.17772834, -0.14222665,  0.03558372,\n       -0.19040085, -0.01552864, -0.11450312,  0.510982  ,  0.04246646,\n        0.12320849,  0.16488601,  0.34314504,  0.49351683,  0.14760622,\n        0.69962996,  0.15166469,  0.06924468, -0.01712122,  0.84754914,\n        0.43944168,  0.10109198, -0.2817844 ,  0.2953523 , -0.13313657],\n      dtype=float32)"
     },
     "execution_count": 9,
     "metadata": {},
     "output_type": "execute_result"
    }
   ],
   "source": [
    "wv['user'] # individual vector"
   ],
   "metadata": {
    "collapsed": false
   }
  },
  {
   "cell_type": "code",
   "execution_count": 10,
   "outputs": [
    {
     "data": {
      "text/plain": "{'.': 0,\n 'aap': 1,\n '!': 2,\n 'user': 3,\n 'short': 4,\n '?': 5,\n 'day': 6,\n 'stock': 7,\n 'today': 8,\n 'volume': 9,\n 'market': 10,\n 'like': 11,\n 'long': 12,\n 'stop': 13,\n 'good': 14,\n 'high': 15,\n 'goog': 16,\n 'new': 17,\n 'buy': 18,\n 'watch': 19,\n 'bac': 20,\n 'still': 21,\n 'nice': 22,\n 'back': 23,\n 'look': 24,\n 'time': 25,\n 'move': 26,\n 'week': 27,\n 'next': 28,\n 'coronavirus': 29,\n 'higher': 30,\n 'see': 31,\n 'break': 32,\n 'go': 33,\n 'price': 34,\n 'trade': 35,\n 'close': 36,\n 'one': 37,\n 'ong': 38,\n 'point': 39,\n 'sensex': 40,\n 'triangle': 41,\n 'nifty': 42,\n 'breakout': 43,\n 'weekly': 44,\n 'call': 45,\n 'f': 46,\n 'could': 47,\n 'looking': 48,\n 'share': 49,\n 'get': 50,\n 'big': 51,\n 'low': 52,\n 'year': 53,\n 'support': 54,\n 'target': 55,\n 'position': 56,\n 'going': 57,\n 'bullish': 58,\n 'p': 59,\n 'nfx': 60,\n 'last': 61,\n 'lower': 62,\n 'green': 63,\n 'u': 64,\n 'earnings': 65,\n 'gap': 66,\n 'amzn': 67,\n 'v': 68,\n 'open': 69,\n 'put': 70,\n 'line': 71,\n 'c': 72,\n 'bank': 73,\n 'rt': 74,\n 'sell': 75,\n 'may': 76,\n 'g': 77,\n 'since': 78,\n 'holding': 79,\n 'well': 80,\n 'profit': 81,\n 'think': 82,\n 'need': 83,\n 'amid': 84,\n 'resistance': 85,\n 'spy': 86,\n 'e': 87,\n 'take': 88,\n 'strong': 89,\n 'trend': 90,\n 'b': 91,\n 'cash': 92,\n 'would': 93,\n 'term': 94,\n 'ddd': 95,\n 'level': 96,\n 'say': 97,\n 'daily': 98,\n 'great': 99,\n 'buying': 100,\n 'flag': 101,\n 'company': 102,\n 'list': 103,\n 'hit': 104,\n 'breaking': 105,\n 'first': 106,\n 'im': 107,\n 'tomorrow': 108,\n 'k': 109,\n 'yesterday': 110,\n 'another': 111,\n 'make': 112,\n 'million': 113,\n 'start': 114,\n 'month': 115,\n 'imo': 116,\n 'option': 117,\n 'want': 118,\n 'dont': 119,\n 'hold': 120,\n 'entry': 121,\n 'full': 122,\n 'w': 123,\n 'run': 124,\n 'ed': 125,\n 'gain': 126,\n 'apple': 127,\n 'come': 128,\n 'q': 129,\n 'coming': 130,\n 'bull': 131,\n 'trading': 132,\n 'end': 133,\n 'money': 134,\n 'investor': 135,\n 'right': 136,\n 'loss': 137,\n 'march': 138,\n 'bought': 139,\n 'oil': 140,\n 'top': 141,\n 'soon': 142,\n 'much': 143,\n 'global': 144,\n 'setup': 145,\n 'street': 146,\n 'bottom': 147,\n 'bounce': 148,\n 'getting': 149,\n 'keep': 150,\n 'around': 151,\n 'play': 152,\n 'pattern': 153,\n 'cat': 154,\n 'znga': 155,\n 'pullback': 156,\n 'vol': 157,\n 'fund': 158,\n 'post': 159,\n 'red': 160,\n 'sma': 161,\n 'added': 162,\n 'little': 163,\n 'shot': 164,\n 'min': 165,\n 'drop': 166,\n 'news': 167,\n 'really': 168,\n 'also': 169,\n 'bearish': 170,\n 'nkd': 171,\n 'taking': 172,\n 'pay': 173,\n 'way': 174,\n 'moving': 175,\n 'small': 176,\n 'x': 177,\n 'tgt': 178,\n 'fall': 179,\n 'know': 180,\n 'bear': 181,\n 'trying': 182,\n 'spx': 183,\n 'action': 184,\n 'friday': 185,\n 'sale': 186,\n 'watching': 187,\n 'near': 188,\n 'feb': 189,\n 'many': 190,\n 'sold': 191,\n 'aapl': 192,\n 'lot': 193,\n 'even': 194,\n 'upside': 195,\n 'jpm': 196,\n 'macd': 197,\n 'better': 198,\n 'possible': 199,\n 'r': 200,\n 'h': 201,\n 'crisis': 202,\n 'cut': 203,\n 'set': 204,\n 'selling': 205,\n 'growth': 206,\n 'got': 207,\n 'likely': 208,\n 'average': 209,\n 'test': 210,\n 'pandemic': 211,\n 'swing': 212,\n 'report': 213,\n 'pop': 214,\n 'base': 215,\n 'ssys': 216,\n 'st': 217,\n 'fill': 218,\n 'business': 219,\n 'fb': 220,\n 'two': 221,\n 'might': 222,\n 'made': 223,\n 'broke': 224,\n 'morning': 225,\n 'ng': 226,\n 'trader': 227,\n 'de': 228,\n 'gd': 229,\n 'bid': 230,\n 'making': 231,\n 'huge': 232,\n 'jcp': 233,\n 'net': 234,\n 'dollar': 235,\n 'world': 236,\n 'scaling': 237,\n 'si': 238,\n 'continues': 239,\n 'jan': 240,\n 'th': 241,\n 'best': 242,\n 'video': 243,\n 'pdating': 244,\n 'ema': 245,\n 'billion': 246,\n 'hope': 247,\n 'imho': 248,\n 'ready': 249,\n 'ooks': 250,\n 'key': 251,\n 'fed': 252,\n 'consolidation': 253,\n 'rbi': 254,\n 'china': 255,\n 'signal': 256,\n 'channel': 257,\n 'lockdown': 258,\n 'nvda': 259,\n 'yhoo': 260,\n 'beat': 261,\n 'monthly': 262,\n 'recent': 263,\n 'far': 264,\n 'mcp': 265,\n 'major': 266,\n 'cf': 267,\n 'heard': 268,\n 'msft': 269,\n 'interesting': 270,\n 'wait': 271,\n 'minute': 272,\n 'let': 273,\n 'thing': 274,\n 'bby': 275,\n 'early': 276,\n 'area': 277,\n 'love': 278,\n 'gmc': 279,\n 'risk': 280,\n 'setting': 281,\n 'candle': 282,\n 'government': 283,\n 'follow': 284,\n 'csn': 285,\n 'add': 286,\n 'idea': 287,\n 'maybe': 288,\n 'flow': 289,\n 'done': 290,\n 'show': 291,\n 'economy': 292,\n 'check': 293,\n 'hpq': 294,\n 'range': 295,\n 'people': 296,\n 'rally': 297,\n 'hour': 298,\n 'cost': 299,\n 'intraday': 300,\n 'cross': 301,\n 'trailing': 302,\n 'watchlist': 303,\n 'eps': 304,\n 'dividend': 305,\n 'bet': 306,\n 'pick': 307,\n 'po': 308,\n 'bar': 309,\n 'via': 310,\n 'handle': 311,\n 'dip': 312,\n 'sure': 313,\n 'closed': 314,\n 'ooking': 315,\n 'second': 316,\n 'positive': 317,\n 'work': 318,\n 'ave': 319,\n 'took': 320,\n 'gold': 321,\n 'monday': 322,\n 'job': 323,\n 'technical': 324,\n 'fib': 325,\n 'anyone': 326,\n 'something': 327,\n 'cup': 328,\n 'worst': 329,\n 'fcx': 330,\n 'yr': 331,\n 'pt': 332,\n 'waiting': 333,\n 'ebay': 334,\n 'jump': 335,\n 'data': 336,\n 'demand': 337,\n 'solid': 338,\n 'financial': 339,\n 'hard': 340,\n 'gpn': 341,\n 'ish': 342,\n 'give': 343,\n 'bit': 344,\n 'nicely': 345,\n 'n': 346,\n 'wall': 347,\n 'ko': 348,\n 'away': 349,\n 'decline': 350,\n 'operational': 351,\n 'thru': 352,\n 'record': 353,\n 'value': 354,\n 'vng': 355,\n 'ago': 356,\n 'quarter': 357,\n 'wmt': 358,\n 'negative': 359,\n 'said': 360,\n 'marketupdates': 361,\n 'bond': 362,\n 'mo': 363,\n 'buyer': 364,\n 'prior': 365,\n 'almost': 366,\n 'clear': 367,\n 'sv': 368,\n 'spw': 369,\n 'weak': 370,\n 'chk': 371,\n 'cst': 372,\n 'potential': 373,\n 'uptrend': 374,\n 'stay': 375,\n 'side': 376,\n 'wow': 377,\n 'deck': 378,\n 'head': 379,\n 'fast': 380,\n 'india': 381,\n 'reversal': 382,\n 'push': 383,\n 'vxy': 384,\n 'easy': 385,\n 'beating': 386,\n 'industry': 387,\n 'future': 388,\n 'economic': 389,\n 'working': 390,\n 'pcn': 391,\n 'plan': 392,\n 'hot': 393,\n 'pretty': 394,\n 'rate': 395,\n 'qqq': 396,\n 'fio': 397,\n 'app': 398,\n 'squeeze': 399,\n 'eye': 400,\n 'adding': 401,\n 'thats': 402,\n 'oi': 403,\n 'pull': 404,\n 'mean': 405,\n 'crore': 406,\n 'april': 407,\n 'avg': 408,\n 'cm': 409,\n 'cheap': 410,\n 'hedge': 411,\n 'continue': 412,\n 'past': 413,\n 'yet': 414,\n 'tight': 415,\n 'rising': 416,\n 'turn': 417,\n 'hod': 418,\n 'including': 419,\n 'ibm': 420,\n 'ist': 421,\n 'probably': 422,\n 'starting': 423,\n 'name': 424,\n 'mar': 425,\n 'rise': 426,\n 'yes': 427,\n 'always': 428,\n 'mtg': 429,\n 'home': 430,\n 'already': 431,\n 'note': 432,\n 'm': 433,\n 'worth': 434,\n 'downside': 435,\n 'return': 436,\n 'cee': 437,\n 'never': 438,\n 'every': 439,\n 'bad': 440,\n 'da': 441,\n 'till': 442,\n 'interest': 443,\n 'due': 444,\n 'help': 445,\n 'opening': 446,\n 'went': 447,\n 'surge': 448,\n 'swy': 449,\n 'debt': 450,\n 'ever': 451,\n 'half': 452,\n 'co': 453,\n 'apo': 454,\n 'step': 455,\n 'qcom': 456,\n 'wfc': 457,\n 'falling': 458,\n 'tell': 459,\n 'swhc': 460,\n 'game': 461,\n 'everyone': 462,\n 'quick': 463,\n 'pm': 464,\n 'number': 465,\n 'invn': 466,\n 'split': 467,\n 'large': 468,\n 'fear': 469,\n 'dma': 470,\n 'rest': 471,\n 'loan': 472,\n 'late': 473,\n 'biggest': 474,\n 'heavy': 475,\n 'expected': 476,\n 'lol': 477,\n 'per': 478,\n 'trendline': 479,\n 'tc': 480,\n 'doesnt': 481,\n 'cover': 482,\n 'investment': 483,\n 'portfolio': 484,\n 'momentum': 485,\n 'following': 486,\n 'shd': 487,\n 'pre': 488,\n 'wk': 489,\n 'increase': 490,\n 'win': 491,\n 'consumer': 492,\n 'shoulder': 493,\n 'cap': 494,\n 'weakness': 495,\n 'sign': 496,\n 'double': 497,\n 'posted': 498,\n 'free': 499,\n 'didnt': 500,\n 'seems': 501,\n 'cent': 502,\n 'finally': 503,\n 'deal': 504,\n 'covid': 505,\n 'roll': 506,\n 'wont': 507,\n 'oc': 508,\n 'overnight': 509,\n 'dndn': 510,\n 'triggered': 511,\n 'seller': 512,\n 'eod': 513,\n 'ceo': 514,\n 'cant': 515,\n 'gevo': 516,\n 'current': 517,\n 'showing': 518,\n 'retest': 519,\n 'leg': 520,\n 'en': 521,\n 'spread': 522,\n 'expectation': 523,\n 'oversold': 524,\n 'margin': 525,\n 'january': 526,\n 'building': 527,\n 'real': 528,\n 'dump': 529,\n 'continuation': 530,\n 'change': 531,\n 'saudi': 532,\n 'xco': 533,\n 'others': 534,\n 'update': 535,\n 'thought': 536,\n 'covered': 537,\n 'iphone': 538,\n 'story': 539,\n 'winner': 540,\n 'sector': 541,\n 'lead': 542,\n 'reason': 543,\n 'american': 544,\n 'though': 545,\n 'analysis': 546,\n 'europe': 547,\n 'indicator': 548,\n 'sbx': 549,\n 'slow': 550,\n 'firm': 551,\n 'dvax': 552,\n 'mon': 553,\n 'phone': 554,\n 'thursday': 555,\n 'ana': 556,\n 'nothing': 557,\n 'aig': 558,\n 'dow': 559,\n 'oh': 560,\n 'expect': 561,\n 'ahead': 562,\n 'imm': 563,\n 'patience': 564,\n 'se': 565,\n 'try': 566,\n 'addition': 567,\n 'downtrend': 568,\n 'vmw': 569,\n 'aa': 570,\n 'intc': 571,\n 'group': 572,\n 'sorry': 573,\n 'rebound': 574,\n 'le': 575,\n 'size': 576,\n 'trigger': 577,\n 'held': 578,\n 'ca': 579,\n 'bvsn': 580,\n 'straight': 581,\n 'started': 582,\n 'missed': 583,\n 'shorting': 584,\n 'ha': 585,\n 'inflation': 586,\n 'dead': 587,\n 'analyst': 588,\n 'equity': 589,\n 'gae': 590,\n 'divergence': 591,\n 'mkt': 592,\n 'broken': 593,\n 'closing': 594,\n 'ook': 595,\n 'crude': 596,\n 'raise': 597,\n 'part': 598,\n 'failed': 599,\n 'rupee': 600,\n 'gonna': 601,\n 'despite': 602,\n 'store': 603,\n 'div': 604,\n 'result': 605,\n 'hate': 606,\n 'touch': 607,\n 'ft': 608,\n 'three': 609,\n 'left': 610,\n 'enough': 611,\n 'tonight': 612,\n 'dec': 613,\n 'employee': 614,\n 'overbought': 615,\n 'old': 616,\n 'tsa': 617,\n 'ow': 618,\n 'least': 619,\n 'nem': 620,\n 'volatility': 621,\n 'use': 622,\n 'box': 623,\n 'mark': 624,\n 'gmx': 625,\n 'february': 626,\n 'pin': 627,\n 'wrap': 628,\n 'someone': 629,\n 'supply': 630,\n 'headed': 631,\n 'largest': 632,\n 'ax': 633,\n 'gdx': 634,\n 'online': 635,\n 'estimate': 636,\n 'cloud': 637,\n 'blog': 638,\n 'saying': 639,\n 'alert': 640,\n 'qco': 641,\n 'samsung': 642,\n 'plunge': 643,\n 'decent': 644,\n 'slump': 645,\n 'governor': 646,\n 'gdp': 647,\n 'correction': 648,\n 'product': 649,\n 'book': 650,\n 'sd': 651,\n 'sk': 652,\n 'nke': 653,\n 'wrong': 654,\n 'seen': 655,\n 'revenue': 656,\n 'dt': 657,\n 'thanks': 658,\n 'affy': 659,\n 'crash': 660,\n 'coh': 661,\n 'happens': 662,\n 'night': 663,\n 'isi': 664,\n 'stake': 665,\n 'mgm': 666,\n 'central': 667,\n 'miss': 668,\n 'longs': 669,\n 'read': 670,\n 'resume': 671,\n 'sa': 672,\n 'traded': 673,\n 'dia': 674,\n 'problem': 675,\n 'ceg': 676,\n 'expiration': 677,\n 'pphm': 678,\n 'ill': 679,\n 'gas': 680,\n 'yep': 681,\n 'service': 682,\n 'ec': 683,\n 'sound': 684,\n 'he': 685,\n 'federal': 686,\n 'system': 687,\n 'called': 688,\n 'cmg': 689,\n 'feel': 690,\n 'spot': 691,\n 'radar': 692,\n 'byd': 693,\n 'guy': 694,\n 'wynn': 695,\n 'medium': 696,\n 'longer': 697,\n 'without': 698,\n 'catch': 699,\n 'kbh': 700,\n 'lost': 701,\n 'heading': 702,\n 'nearly': 703,\n 'ove': 704,\n 'inc': 705,\n 'giving': 706,\n 'place': 707,\n 'confirming': 708,\n 'ay': 709,\n 'offer': 710,\n 'state': 711,\n 'later': 712,\n 'spike': 713,\n 'earlier': 714,\n 'everything': 715,\n 'auto': 716,\n 'must': 717,\n 'pivot': 718,\n 'balance': 719,\n 'believe': 720,\n 'fight': 721,\n 'tv': 722,\n 'recession': 723,\n 'ngt': 724,\n 'block': 725,\n 'hammer': 726,\n 'country': 727,\n 'af': 728,\n 'gme': 729,\n 'float': 730,\n 'shareholder': 731,\n 'panic': 732,\n 'ok': 733,\n 'war': 734,\n 'closely': 735,\n 'poised': 736,\n 'either': 737,\n 'turning': 738,\n 'ocn': 739,\n 'mortgage': 740,\n 'came': 741,\n 'account': 742,\n 'eading': 743,\n 'strength': 744,\n 'session': 745,\n 'csod': 746,\n 'based': 747,\n 'expecting': 748,\n 'airline': 749,\n 'retail': 750,\n 'bk': 751,\n 'payment': 752,\n 'matter': 753,\n 'upper': 754,\n 'order': 755,\n 'dnkn': 756,\n 'health': 757,\n 'shaktikanta': 758,\n 'power': 759,\n 'compq': 760,\n 'russia': 761,\n 'wave': 762,\n 'chance': 763,\n 'mil': 764,\n 'worse': 765,\n 'massive': 766,\n 'lakh': 767,\n 'find': 768,\n 'credit': 769,\n 'climb': 770,\n 'ad': 771,\n 'sitting': 772,\n 'filled': 773,\n 'nd': 774,\n 'reserve': 775,\n 'stream': 776,\n 'ipad': 777,\n 'cook': 778,\n 'contract': 779,\n 'previous': 780,\n 'along': 781,\n 'catalyst': 782,\n 'betting': 783,\n 'mini': 784,\n 'id': 785,\n 'within': 786,\n 'hd': 787,\n 'lose': 788,\n 'downgrade': 789,\n 'index': 790,\n 'tech': 791,\n 'vome': 792,\n 'rev': 793,\n 'ctic': 794,\n 'forming': 795,\n 'amazon': 796,\n 'ba': 797,\n 'history': 798,\n 'ot': 799,\n 'pressure': 800,\n 'downward': 801,\n 'kwk': 802,\n 'ive': 803,\n 'acting': 804,\n 'nx': 805,\n 'vhc': 806,\n 'leading': 807,\n 'fire': 808,\n 'claim': 809,\n 'confirmed': 810,\n 'premarket': 811,\n 'begin': 812,\n 'agree': 813,\n 'fundamental': 814,\n 'zone': 815,\n 'seeing': 816,\n 'sharing': 817,\n 'vvs': 818,\n 'descending': 819,\n 'management': 820,\n 'calling': 821,\n 'case': 822,\n 'card': 823,\n 'zagg': 824,\n 'impact': 825,\n 'confirmation': 826,\n 'smart': 827,\n 'virus': 828,\n 'trump': 829,\n 'currently': 830,\n 'invest': 831,\n 'increased': 832,\n 'hf': 833,\n 'csco': 834,\n 'trap': 835,\n 'arabia': 836,\n 'selloff': 837,\n 'crazy': 838,\n 'google': 839,\n 'wonder': 840,\n 'cen': 841,\n 'kex': 842,\n 'momo': 843,\n 'anad': 844,\n 'wedge': 845,\n 'inside': 846,\n 'create': 847,\n 'dn': 848,\n 'fdx': 849,\n 'sca': 850,\n 'worked': 851,\n 'nov': 852,\n 'anything': 853,\n 'mobile': 854,\n 'crossing': 855,\n 'px': 856,\n 'ugly': 857,\n 'approaching': 858,\n 'study': 859,\n 'fresh': 860,\n 'settle': 861,\n 'public': 862,\n 'important': 863,\n 'ex': 864,\n 'wfm': 865,\n 'extend': 866,\n 'crack': 867,\n 'happy': 868,\n 'vz': 869,\n 'fo': 870,\n 'cog': 871,\n 'lagging': 872,\n 'pump': 873,\n 'told': 874,\n 'valuation': 875,\n 'shorted': 876,\n 'saw': 877,\n 'cox': 878,\n 'god': 879,\n 'exit': 880,\n 'boy': 881,\n 'stoploss': 882,\n 'boost': 883,\n 'delta': 884,\n 'opex': 885,\n 'youre': 886,\n 'please': 887,\n 'axp': 888,\n 'technology': 889,\n 'volatile': 890,\n 'paying': 891,\n 'tap': 892,\n 'cnbc': 893,\n 'energy': 894,\n 'ratio': 895,\n 'manager': 896,\n 'cbmx': 897,\n 'south': 898,\n 'ppl': 899,\n 'thinking': 900,\n 'bounced': 901,\n 'tuesday': 902,\n 'ride': 903,\n 'morgan': 904,\n 'buyback': 905,\n 'accumulation': 906,\n 'space': 907,\n 'continuing': 908,\n 'mentioned': 909,\n 'actually': 910,\n 'benefit': 911,\n 'model': 912,\n 'conference': 913,\n 'period': 914,\n 'opportunity': 915,\n 'amp': 916,\n 'light': 917,\n 'slide': 918,\n 'abx': 919,\n 'income': 920,\n 'third': 921,\n 'wt': 922,\n 'xf': 923,\n 'decision': 924,\n 'keeping': 925,\n 'bot': 926,\n 'liquidity': 927,\n 'goldman': 928,\n 'talk': 929,\n 'ascending': 930,\n 'announces': 931,\n 'guess': 932,\n 'consolidating': 933,\n 'corporate': 934,\n 'bt': 935,\n 'enter': 936,\n 'edge': 937,\n 'heo': 938,\n 'biotech': 939,\n 'gm': 940,\n 'chtp': 941,\n 'cheaper': 942,\n 'folk': 943,\n 'solar': 944,\n 'piece': 945,\n 'magic': 946,\n 'apr': 947,\n 'boom': 948,\n 'tax': 949,\n 'whole': 950,\n 'wen': 951,\n 'seem': 952,\n 'social': 953,\n 'ndx': 954,\n 'dcth': 955,\n 'gapped': 956,\n 'foreign': 957,\n 'mako': 958,\n 'covering': 959,\n 'across': 960,\n 'forecast': 961,\n 'remain': 962,\n 'ike': 963,\n 'man': 964,\n 'rd': 965,\n 'breakdown': 966,\n 'chinese': 967,\n 'security': 968,\n 'buyout': 969,\n 'confirm': 970,\n 'alpha': 971,\n 'flagging': 972,\n 'anybody': 973,\n 'leader': 974,\n 'chase': 975,\n 'hanging': 976,\n 'strike': 977,\n 'fade': 978,\n 'ta': 979,\n 'upgrade': 980,\n 'staying': 981,\n 'towards': 982,\n 'view': 983,\n 'couple': 984,\n 'meeting': 985,\n 'final': 986,\n 'chain': 987,\n 'needed': 988,\n 'figure': 989,\n 'sto': 990,\n 'isg': 991,\n 'operation': 992,\n 'extended': 993,\n 'aid': 994,\n 'swi': 995,\n 'etc': 996,\n 'zcs': 997,\n 'unit': 998,\n 'finance': 999,\n ...}"
     },
     "execution_count": 10,
     "metadata": {},
     "output_type": "execute_result"
    }
   ],
   "source": [
    "dict(wv.key_to_index) # index of vector"
   ],
   "metadata": {
    "collapsed": false
   }
  }
 ],
 "metadata": {
  "kernelspec": {
   "display_name": "Python 3",
   "language": "python",
   "name": "python3"
  },
  "language_info": {
   "codemirror_mode": {
    "name": "ipython",
    "version": 2
   },
   "file_extension": ".py",
   "mimetype": "text/x-python",
   "name": "python",
   "nbconvert_exporter": "python",
   "pygments_lexer": "ipython2",
   "version": "2.7.6"
  }
 },
 "nbformat": 4,
 "nbformat_minor": 0
}
