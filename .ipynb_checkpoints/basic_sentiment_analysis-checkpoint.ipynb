{
 "cells": [
  {
   "cell_type": "markdown",
   "metadata": {},
   "source": [
    "Data sourced from https://www.kaggle.com/datasets/yash612/stockmarket-sentiment-dataset?resource=download  Data processing stolen, abridged from https://www.kaggle.com/code/juniorbueno/stock-market-sentimen-bert-tokenizer  \n",
    "Encoding techiniques illuminated by this article https://datajenius.com/2022/03/13/a-deep-dive-into-nlp-tokenization-encoding-word-embeddings-sentence-embeddings-word2vec-bert/"
   ]
  },
  {
   "cell_type": "markdown",
   "metadata": {},
   "source": [
    "You may need to install (via pip3): torch, matplotlib, numpy, nltk. You will also need to run (with python3 in terminal) >>>import nltk    >>>nltk.download('stopwords')"
   ]
  },
  {
   "cell_type": "code",
   "execution_count": 16,
   "metadata": {},
   "outputs": [],
   "source": [
    "import torch\n",
    "import torch.nn as nn\n",
    "import torch.optim as optim\n",
    "from torch.autograd import Variable\n",
    "import matplotlib.pyplot as plt\n",
    "import numpy as np\n",
    "import csv\n",
    "import re\n",
    "from nltk import stem\n",
    "from nltk.corpus import stopwords\n",
    "from collections import Counter\n",
    "from copy import deepcopy\n",
    "from random import shuffle\n",
    "\n",
    "stemm = stem.porter.PorterStemmer()\n",
    "stops = set(stopwords.words('english'))\n",
    "\n",
    "with open('stock_data.csv', encoding='utf8') as csvfile:\n",
    "    readCSV = csv.reader(csvfile, delimiter=',')\n",
    "    data = list(readCSV)\n",
    "\n",
    "data = list(zip(*data))\n",
    "text = data[0][1:]\n",
    "sentiment = [max(x, 0) for x in map(int, data[1][1:])]"
   ]
  },
  {
   "cell_type": "code",
   "execution_count": 17,
   "metadata": {},
   "outputs": [],
   "source": [
    "# Hyperparameters\n",
    "dict_word_frequency_requirement = 20\n",
    "train_proportion = 0.8\n",
    "batch_size = 32\n",
    "epochs = 10"
   ]
  },
  {
   "cell_type": "code",
   "execution_count": 18,
   "metadata": {},
   "outputs": [],
   "source": [
    "def clean_tweet(tweet):\n",
    "  tweet = re.sub(r\"@[A-Za-z0-9]+\", ' ', tweet)\n",
    "  tweet = re.sub(r\"https?://[A-Za-z0-9./]+\", ' ', tweet)\n",
    "  tweet = re.sub(r\"[']\", \"\", tweet)\n",
    "  tweet = re.sub(r\"[^a-zA-Z.!?]\", ' ', tweet)\n",
    "  tweet = re.sub(r\"([^a-zA-Z])\", r\" \\1 \", tweet)\n",
    "  tweet = re.sub(r\" +\", ' ', tweet)\n",
    "  tweet = tweet.lower()\n",
    "  return tweet"
   ]
  },
  {
   "cell_type": "code",
   "execution_count": 19,
   "metadata": {},
   "outputs": [],
   "source": [
    "def tokenize(tweet):\n",
    "    tweet = clean_tweet(tweet)\n",
    "    tweet = filter(lambda w: w not in stops, tweet.strip().split())\n",
    "    return list(map(stemm.stem, tweet))"
   ]
  },
  {
   "cell_type": "code",
   "execution_count": 20,
   "metadata": {},
   "outputs": [
    {
     "name": "stdout",
     "output_type": "stream",
     "text": [
      "user: AAP MOVIE. 55% return for the FEA/GEED indicator just 15 trades for the year.  AWESOME.  \n",
      "['user', 'aap', 'movi', '.', 'return', 'fea', 'geed', 'indic', 'trade', 'year', '.', 'awesom', '.']\n"
     ]
    }
   ],
   "source": [
    "test = text[1]\n",
    "print(test)\n",
    "print(tokenize(test))"
   ]
  },
  {
   "cell_type": "code",
   "execution_count": 21,
   "metadata": {},
   "outputs": [],
   "source": [
    "tokenized_tweets = list(map(tokenize, text))"
   ]
  },
  {
   "cell_type": "code",
   "execution_count": 22,
   "metadata": {},
   "outputs": [
    {
     "data": {
      "text/plain": [
       "505"
      ]
     },
     "execution_count": 22,
     "metadata": {},
     "output_type": "execute_result"
    }
   ],
   "source": [
    "word_count = Counter()\n",
    "for data in deepcopy(tokenized_tweets):\n",
    "    word_count.update(data)\n",
    "\n",
    "vocab = [word for word in word_count if word_count[word] >= dict_word_frequency_requirement]\n",
    "dictionary = {word : i+1 for i, word in enumerate(vocab)}\n",
    "dict_length = len(dictionary) + 1\n",
    "dict_length"
   ]
  },
  {
   "cell_type": "code",
   "execution_count": 23,
   "metadata": {},
   "outputs": [],
   "source": [
    "encoded_tweets = [list(map(lambda w : dictionary.get(w, 0), tweet)) for tweet in tokenized_tweets]\n",
    "encoded_tweets\n",
    "\n",
    "maxNum = len(vocab) + 1\n",
    "onehot_encoded_tweets = [[1 if (n in t) else 0 for n in range(maxNum)] for t in encoded_tweets]\n"
   ]
  },
  {
   "cell_type": "code",
   "execution_count": 24,
   "metadata": {},
   "outputs": [],
   "source": [
    "full_dataset = list(zip(onehot_encoded_tweets, sentiment))\n",
    "\n",
    "shuffle(full_dataset)\n",
    "\n",
    "train_size = int(train_proportion * len(full_dataset))\n",
    "\n",
    "train_dataset = full_dataset[:train_size]\n",
    "test_dataset = full_dataset[train_size:]\n",
    "\n",
    "train_dataset = list(zip(*train_dataset))\n",
    "test_dataset = list(zip(*test_dataset))\n",
    "\n",
    "tr_data = torch.FloatTensor(train_dataset[0])\n",
    "tr_label = torch.unsqueeze(torch.FloatTensor(train_dataset[1]),1)\n",
    "te_data = torch.FloatTensor(test_dataset[0])\n",
    "te_label = torch.unsqueeze(torch.FloatTensor(test_dataset[1]),1)"
   ]
  },
  {
   "cell_type": "code",
   "execution_count": 25,
   "metadata": {},
   "outputs": [],
   "source": [
    "class OneHotModel(nn.Module):\n",
    "    def __init__(self, input_size, hidden_size, output_size):\n",
    "        super(OneHotModel, self).__init__()\n",
    "\n",
    "        self.i2h  = torch.nn.Linear(input_size, hidden_size)\n",
    "        self.h2h = torch.nn.Linear(hidden_size, hidden_size)\n",
    "        self.h2o = torch.nn.Linear(hidden_size, output_size)\n",
    "        \n",
    "\n",
    "    def forward(self, input):\n",
    "        x = self.i2h(input)\n",
    "        x  = torch.tanh(x)\n",
    "\n",
    "        x = self.h2h(x)\n",
    "        x = torch.tanh(x)\n",
    "\n",
    "        x = self.h2o(x)\n",
    "        x = torch.sigmoid(x)\n",
    "\n",
    "        return(x)"
   ]
  },
  {
   "cell_type": "code",
   "execution_count": 26,
   "metadata": {},
   "outputs": [],
   "source": [
    "def train(model, criterion, optimizer, x, y):\n",
    "    x = Variable(x, requires_grad=False)\n",
    "    y = Variable(y, requires_grad=False)\n",
    "    \n",
    "    # Reset gradient\n",
    "    optimizer.zero_grad()\n",
    "\n",
    "    # Forward\n",
    "    fx = model.forward(x)\n",
    "    loss = criterion(fx, y)\n",
    "    \n",
    "    # Backward\n",
    "    loss.backward()\n",
    "\n",
    "    # Update parameters\n",
    "    optimizer.step()\n",
    "\n",
    "    return loss.data.item()"
   ]
  },
  {
   "cell_type": "code",
   "execution_count": 27,
   "metadata": {},
   "outputs": [],
   "source": [
    "def predict(model, x, y):\n",
    "    x = Variable(x, requires_grad=False)\n",
    "    outputs = model(x)\n",
    "    predicted = torch.sign(outputs.data) #for each output, get the predicted value (torch.max returns (index, value) tuple)\n",
    "    correct = (predicted == y) #how many predicted values equal the labels\n",
    "    return correct.sum() "
   ]
  },
  {
   "cell_type": "code",
   "execution_count": 28,
   "metadata": {},
   "outputs": [],
   "source": [
    "net = OneHotModel(dict_length,dict_length,1)\n",
    "\n",
    "epochs = 10\n",
    "batch_size = 32\n",
    "learning_rate = 0.001\n",
    "momentum = 0.9\n",
    "\n",
    "plot_loss = []\n",
    "plot_correct = []\n",
    "\n",
    "criterion = nn.BCELoss()\n",
    "optimizer = optim.SGD(net.parameters(), lr = learning_rate, momentum = momentum)"
   ]
  },
  {
   "cell_type": "code",
   "execution_count": 29,
   "metadata": {},
   "outputs": [
    {
     "name": "stdout",
     "output_type": "stream",
     "text": [
      "Epoch 01, loss = 0.677685, accuracy = 62.04%\n",
      "Epoch 02, loss = 0.657839, accuracy = 62.04%\n",
      "Epoch 03, loss = 0.652855, accuracy = 62.04%\n",
      "Epoch 04, loss = 0.650334, accuracy = 62.04%\n",
      "Epoch 05, loss = 0.647828, accuracy = 62.04%\n",
      "Epoch 06, loss = 0.645189, accuracy = 62.04%\n",
      "Epoch 07, loss = 0.642741, accuracy = 62.04%\n",
      "Epoch 08, loss = 0.639053, accuracy = 62.04%\n",
      "Epoch 09, loss = 0.635129, accuracy = 62.04%\n",
      "Epoch 10, loss = 0.630794, accuracy = 62.04%\n"
     ]
    }
   ],
   "source": [
    "num_examples = tr_data.shape[0]\n",
    "num_batches = num_examples // batch_size\n",
    "FINTWIT_dataset = torch.utils.data.TensorDataset(tr_data,tr_label)\n",
    "\n",
    "train_loader = torch.utils.data.DataLoader(FINTWIT_dataset, batch_size=batch_size, shuffle=True)\n",
    "\n",
    "for e in range(epochs):\n",
    "    loss = 0.\n",
    "    for data,target in train_loader:\n",
    "        loss += train(net, criterion, optimizer, data, target)\n",
    "    correct = predict(net, te_data, te_label)\n",
    "    plot_loss.append(loss/num_batches)\n",
    "    plot_correct.append(correct/te_data.shape[0]*100)\n",
    "    print(\"Epoch %02d, loss = %f, accuracy = %.2f%%\" % (e+1, loss / num_batches, correct/te_data.shape[0]*100))"
   ]
  },
  {
   "cell_type": "code",
   "execution_count": 30,
   "metadata": {},
   "outputs": [
    {
     "data": {
      "image/png": "[encoded data removed]",
      "text/plain": [
       "<Figure size 640x480 with 1 Axes>"
      ]
     },
     "metadata": {},
     "output_type": "display_data"
    },
    {
     "data": {
      "image/png": "[encoded data removed]",
      "text/plain": [
       "<Figure size 640x480 with 1 Axes>"
      ]
     },
     "metadata": {},
     "output_type": "display_data"
    }
   ],
   "source": [
    "plt.plot(plot_loss)\n",
    "plt.xlabel('Epoch')\n",
    "plt.ylabel('Avg. Loss per Epoch (on Training Set)')\n",
    "plt.show()\n",
    "\n",
    "plt.plot(plot_correct)\n",
    "plt.xlabel('Epoch')\n",
    "plt.ylabel('Accuracy per Epoch (on Test Set)')\n",
    "plt.show()"
   ]
  }
 ],
 "metadata": {
  "kernelspec": {
   "display_name": "Python 3",
   "language": "python",
   "name": "python3"
  },
  "language_info": {
   "codemirror_mode": {
    "name": "ipython",
    "version": 3
   },
   "file_extension": ".py",
   "mimetype": "text/x-python",
   "name": "python",
   "nbconvert_exporter": "python",
   "pygments_lexer": "ipython3",
   "version": "3.8.3"
  },
  "vscode": {
   "interpreter": {
    "hash": "b941bf498f276488674bf31f1b0cc37176298e8d600eb280d450861b05bebb56"
   }
  }
 },
 "nbformat": 4,
 "nbformat_minor": 2
}
