{
 "cells": [
  {
   "cell_type": "code",
   "execution_count": null,
   "metadata": {},
   "outputs": [],
   "source": [
    "import torch\n",
    "import torch.nn as nn\n",
    "import torch.optim as optim\n",
    "import torch.nn.functional as F\n",
    "from torch.nn.utils.rnn import pack_padded_sequence\n",
    "from torch.nn.utils.rnn import pad_packed_sequence\n",
    "import matplotlib.pyplot as plt\n",
    "import pandas as pd\n",
    "import pickle\n",
    "\n",
    "dev = \"cpu\"\n",
    "# if torch.cuda.is_available(): dev = \"cuda\" \n",
    "\n",
    "device = torch.device(dev)"
   ]
  },
  {
   "cell_type": "code",
   "execution_count": null,
   "metadata": {},
   "outputs": [],
   "source": [
    "# Hyperparameters\n",
    "train_proportion = 0.80\n",
    "hidden_layer_size = 70\n",
    "learning_rate = 0.0001\n",
    "batch_size = 64\n",
    "epochs = 10000\n",
    "n_hidden_layers = 1\n",
    "drop_prob = 0.5"
   ]
  },
  {
   "cell_type": "code",
   "execution_count": null,
   "metadata": {},
   "outputs": [],
   "source": [
    "with open(\"encoded_dataframe\", \"rb\") as encoded_dataframe:\n",
    "    encoded_df = pickle.load(encoded_dataframe)\n",
    "\n",
    "embedding_dim = encoded_df[0][0][0].size(0)"
   ]
  },
  {
   "cell_type": "code",
   "execution_count": null,
   "metadata": {},
   "outputs": [],
   "source": [
    "# Shuffle data and split into training and testing data\n",
    "train_dataset = encoded_df.sample(frac = train_proportion)\n",
    "test_dataset = encoded_df.drop(train_dataset.index)\n",
    "\n",
    "train_size = train_dataset.shape[0]\n",
    "test_size = test_dataset.shape[0]\n",
    "\n",
    "train_tensor = torch.utils.data.TensorDataset(\n",
    "    torch.stack(tuple(train_dataset[0])).type(torch.float32).to(device),\n",
    "    torch.stack(tuple(train_dataset[1])).to(device),\n",
    "    torch.stack(tuple(train_dataset[2])).to(device))\n",
    "test_tensor = torch.utils.data.TensorDataset(\n",
    "    torch.stack(tuple(test_dataset[0])).type(torch.float32).to(device),\n",
    "    torch.stack(tuple(test_dataset[1])).to(device),\n",
    "    torch.stack(tuple(test_dataset[2])).type(torch.long).to(device))\n",
    "\n",
    "train_loader = torch.utils.data.DataLoader(dataset = train_tensor, batch_size = batch_size, shuffle = True)\n",
    "test_loader = torch.utils.data.DataLoader(dataset = test_tensor, batch_size = 1)"
   ]
  },
  {
   "cell_type": "code",
   "execution_count": null,
   "metadata": {},
   "outputs": [],
   "source": [
    "class SRN_model(nn.Module):\n",
    "    def __init__(self, embedding_dim, hidden_dim, n_hidden_layers, output_size, drop_prob):\n",
    "\n",
    "        super().__init__()\n",
    "        self.srn = nn.RNN(embedding_dim, hidden_dim, n_hidden_layers, dropout=drop_prob, batch_first=True)\n",
    "        self.dropout = nn.Dropout(drop_prob)\n",
    "        self.full_connected = nn.Linear(hidden_dim, output_size)\n",
    " \n",
    "    def forward(self, batched_sequences, sentence_lengths):\n",
    "        batched_sequences=pack_padded_sequence(batched_sequences, sentence_lengths, batch_first=True, enforce_sorted=False)\n",
    "        srn_out, _ = self.srn(batched_sequences)\n",
    "        srn_out, _ = pad_packed_sequence(srn_out, batch_first=True)\n",
    "        output = self.dropout(srn_out)\n",
    "        output = self.full_connected(output)\n",
    "        output = torch.gather(output, 1 ,torch.cat((sentence_lengths.unsqueeze(1), sentence_lengths.unsqueeze(1)), 1).unsqueeze(1)-1)\n",
    "        return torch.squeeze(output, 1)"
   ]
  },
  {
   "cell_type": "code",
   "execution_count": null,
   "metadata": {},
   "outputs": [],
   "source": [
    "net = SRN_model(embedding_dim, hidden_layer_size, n_hidden_layers, 2, drop_prob)\n",
    "\n",
    "num_positive = 3685\n",
    "num_negative = 2106\n",
    "\n",
    "net.to(device)\n",
    "weight = torch.FloatTensor([num_positive/num_negative, num_positive/num_positive]).to(device)\n",
    "\n",
    "# Negative log likelihood loss. Suited for classification tasks.\n",
    "criterion = F.nll_loss\n",
    "\n",
    "optimizer = optim.Adam(net.parameters(), lr=learning_rate, weight_decay=0.00001)"
   ]
  },
  {
   "cell_type": "code",
   "execution_count": null,
   "metadata": {},
   "outputs": [],
   "source": [
    "def train(net, criterion, optimizer, data, label, lengths):\n",
    "\n",
    "    loss = 0\n",
    "\n",
    "    # Forward\n",
    "    output = net(data, lengths)\n",
    "    \n",
    "    # Apply output nonlinearity. Log_softmax chosen as it is suited for classification tasks\n",
    "    output = (F.log_softmax(output, dim=1))\n",
    "    \n",
    "    loss = criterion(output, torch.squeeze(label,1), weight=weight)\n",
    "\n",
    "    loss.backward()\n",
    "\n",
    "    optimizer.step()\n",
    "\n",
    "    return loss.data.item()"
   ]
  },
  {
   "cell_type": "code",
   "execution_count": null,
   "metadata": {},
   "outputs": [],
   "source": [
    "plot_loss = []\n",
    "plot_correct = []\n",
    "\n",
    "num_batches = train_size//batch_size\n",
    "\n",
    "for e in range(epochs):\n",
    "    loss = 0.\n",
    "\n",
    "    # Trains on every training data item individually each epoch\n",
    "    for data, label, lengths in train_loader:\n",
    "        optimizer.zero_grad()\n",
    "        loss += train(net, criterion, optimizer, data, label, lengths)\n",
    "\n",
    "    # Evaluate proportion of the test set correctly predicted.\n",
    "    correct = 0\n",
    "    for data, label, lengths in test_loader:\n",
    "        output = net(data, lengths)\n",
    "        if (torch.argmax(output.data) == label[0][0]): correct += 1\n",
    "    accuracy = correct/test_size*100\n",
    "\n",
    "    # Append loss and accuracy results to lists for later plotting.\n",
    "    plot_loss.append(loss/num_batches)\n",
    "    plot_correct.append(accuracy)\n",
    "    \n",
    "    # Print loss and accuracy every epoch.\n",
    "    print(\"Epoch %02d, loss = %f, accuracy = %.2f%%\" % (e+1, loss / num_batches, accuracy))"
   ]
  },
  {
   "cell_type": "code",
   "execution_count": null,
   "metadata": {},
   "outputs": [],
   "source": [
    "# Plot results\n",
    "plt.plot(plot_loss)\n",
    "plt.xlabel('Epoch')\n",
    "plt.ylabel('Avg. Loss per Epoch (on Training Set)')\n",
    "plt.show()\n",
    "\n",
    "plt.plot(plot_correct)\n",
    "plt.xlabel('Epoch')\n",
    "plt.ylabel('Accuracy per Epoch (on Test Set)')\n",
    "plt.show()"
   ]
  }
 ],
 "metadata": {
  "kernelspec": {
   "display_name": "Python 3.10.7 64-bit (microsoft store)",
   "language": "python",
   "name": "python3"
  },
  "language_info": {
   "codemirror_mode": {
    "name": "ipython",
    "version": 3
   },
   "file_extension": ".py",
   "mimetype": "text/x-python",
   "name": "python",
   "nbconvert_exporter": "python",
   "pygments_lexer": "ipython3",
   "version": "3.10.8"
  },
  "orig_nbformat": 4,
  "vscode": {
   "interpreter": {
    "hash": "b941bf498f276488674bf31f1b0cc37176298e8d600eb280d450861b05bebb56"
   }
  }
 },
 "nbformat": 4,
 "nbformat_minor": 2
}
