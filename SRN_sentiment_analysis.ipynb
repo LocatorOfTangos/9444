{
 "cells": [
  {
   "cell_type": "code",
   "execution_count": null,
   "metadata": {},
   "outputs": [],
   "source": [
    "import torch\n",
    "import torch.nn as nn\n",
    "import torch.optim as optim\n",
    "import torch.nn.functional as F\n",
    "import matplotlib.pyplot as plt\n",
    "import pandas as pd\n",
    "import pickle\n",
    "\n",
    "dev = \"cpu\"\n",
    "#if torch.cuda.is_available(): dev = \"cuda\"\n",
    "\n",
    "device = torch.device(dev)"
   ]
  },
  {
   "cell_type": "code",
   "execution_count": null,
   "metadata": {},
   "outputs": [],
   "source": [
    "# Hyperparameters\n",
    "train_proportion = 0.80\n",
    "hidden_layer_size = 70\n",
    "learning_rate = 0.0001\n",
    "batch_size = 64\n",
    "epochs = 10000"
   ]
  },
  {
   "cell_type": "code",
   "execution_count": null,
   "metadata": {},
   "outputs": [],
   "source": [
    "with open(\"encoded_dataframe\", \"rb\") as encoded_dataframe:\n",
    "    encoded_df = pickle.load(encoded_dataframe)"
   ]
  },
  {
   "cell_type": "code",
   "execution_count": null,
   "metadata": {},
   "outputs": [],
   "source": [
    "# Shuffle data and split into training and testing data\n",
    "train_dataset = encoded_df.sample(frac = train_proportion)\n",
    "test_dataset = encoded_df.drop(train_dataset.index)\n",
    "\n",
    "train_size = train_dataset.shape[0]\n",
    "test_size = test_dataset.shape[0]\n",
    "\n",
    "train_tensor = torch.utils.data.TensorDataset(torch.stack(tuple(train_dataset[0])).type(torch.float32).to(device), torch.stack(tuple(train_dataset[1])).to(device))\n",
    "test_tensor = torch.utils.data.TensorDataset(torch.stack(tuple(test_dataset[0])).type(torch.float32).to(device), torch.stack(tuple(test_dataset[1])).to(device))\n",
    "\n",
    "train_loader = torch.utils.data.DataLoader(dataset = train_tensor, batch_size = batch_size, shuffle = True)\n",
    "test_loader = torch.utils.data.DataLoader(dataset = test_tensor, batch_size = 1)"
   ]
  },
  {
   "cell_type": "code",
   "execution_count": null,
   "metadata": {},
   "outputs": [],
   "source": [
    "class SRN_model(nn.Module):\n",
    "    def __init__(self, num_input, num_hid, num_out):\n",
    "        super().__init__()\n",
    "        self.num_hid = num_hid\n",
    "        self.batch_size = 1\n",
    "        self.H0= nn.Parameter(torch.Tensor(num_hid))\n",
    "        self.W = nn.Parameter(torch.Tensor(num_input, num_hid))\n",
    "        self.U = nn.Parameter(torch.Tensor(num_hid, num_hid))\n",
    "        self.hid_bias = nn.Parameter(torch.Tensor(num_hid))\n",
    "        self.V = nn.Parameter(torch.Tensor(num_hid, num_out))\n",
    "        self.out_bias = nn.Parameter(torch.Tensor(num_out))\n",
    "\n",
    "        # Various initialisation schemes. Initialisation is important.\n",
    "        nn.init.zeros_(self.H0)\n",
    "        nn.init.xavier_normal_(self.W)\n",
    "        nn.init.xavier_normal_(self.U)\n",
    "        nn.init.zeros_(self.hid_bias)\n",
    "        nn.init.xavier_normal_(self.V)\n",
    "        nn.init.zeros_(self.out_bias)\n",
    "\n",
    "    def init_hidden(self):\n",
    "        H0 = torch.tanh(self.H0)\n",
    "        return(H0.unsqueeze(0))\n",
    " \n",
    "    def forward(self, seq):\n",
    "        seq_size, _ = seq.size()\n",
    "        h_t = self.init_hidden()\n",
    "        for t in range(seq_size):\n",
    "            x_t = seq[t]\n",
    "            c_t = x_t @ self.W + h_t @ self.U + self.hid_bias\n",
    "            h_t = torch.tanh(c_t)\n",
    "        output = h_t @ self.V + self.out_bias\n",
    "        return output"
   ]
  },
  {
   "cell_type": "code",
   "execution_count": null,
   "metadata": {},
   "outputs": [],
   "source": [
    "net = SRN_model(len(encoded_df[0][0][0]),hidden_layer_size,2)\n",
    "\n",
    "# Yes, I hard coded these values. Yes, this is because I'm lazy\n",
    "num_positive = 3685\n",
    "num_negative = 2106\n",
    "\n",
    "net.to(device)\n",
    "weight = torch.FloatTensor([num_positive/num_negative, num_positive/num_positive]).to(device)\n",
    "\n",
    "# Negative log likelihood loss. Suited for classification tasks.\n",
    "criterion = F.nll_loss\n",
    "\n",
    "optimizer = optim.Adam(net.parameters(), lr=learning_rate, weight_decay=0.00001)"
   ]
  },
  {
   "cell_type": "code",
   "execution_count": null,
   "metadata": {},
   "outputs": [],
   "source": [
    "def train(net, criterion, optimizer, data, label):\n",
    "\n",
    "    loss = 0\n",
    "    outputs = []\n",
    "\n",
    "    for i in range(data.shape[0]):\n",
    "\n",
    "        # Forward\n",
    "        output = net(data[i])\n",
    "\n",
    "        # Apply output nonlinearity. Log_softmax chosen as it is suited for classification tasks\n",
    "        outputs.append(F.log_softmax(output, dim=1))\n",
    "    \n",
    "    loss = criterion(torch.cat(outputs, dim=0), torch.squeeze(label,1), weight=weight)\n",
    "    \n",
    "    loss.backward()\n",
    "\n",
    "    optimizer.step()\n",
    "\n",
    "    return loss.data.item()"
   ]
  },
  {
   "cell_type": "code",
   "execution_count": null,
   "metadata": {},
   "outputs": [],
   "source": [
    "plot_loss = []\n",
    "plot_correct = []\n",
    "\n",
    "num_batches = train_size//batch_size\n",
    "\n",
    "for e in range(epochs):\n",
    "    loss = 0.\n",
    "\n",
    "    # Trains on every training data item individually each epoch\n",
    "    for data, label in train_loader:\n",
    "        optimizer.zero_grad()\n",
    "        loss += train(net, criterion, optimizer, data, label)\n",
    "\n",
    "    if (loss <= 0.001): break\n",
    "\n",
    "    # Evaluate proportion of the test set correctly predicted.\n",
    "    correct = 0\n",
    "    for data, label in test_loader:\n",
    "        output = net(data[0])\n",
    "        if (torch.argmax(output.data) == label[0][0]): correct += 1\n",
    "    accuracy = correct/test_size*100\n",
    "\n",
    "    # Append loss and accuracy results to lists for later plotting.\n",
    "    plot_loss.append(loss/num_batches)\n",
    "    plot_correct.append(accuracy)\n",
    "    \n",
    "    # Print loss and accuracy every epoch.\n",
    "    print(\"Epoch %02d, loss = %f, accuracy = %.2f%%\" % (e+1, loss / num_batches, accuracy))"
   ]
  },
  {
   "cell_type": "code",
   "execution_count": null,
   "metadata": {},
   "outputs": [],
   "source": [
    "# Plot results\n",
    "plt.plot(plot_loss)\n",
    "plt.xlabel('Epoch')\n",
    "plt.ylabel('Avg. Loss per Epoch (on Training Set)')\n",
    "plt.show()\n",
    "\n",
    "plt.plot(plot_correct)\n",
    "plt.xlabel('Epoch')\n",
    "plt.ylabel('Accuracy per Epoch (on Test Set)')\n",
    "plt.show()"
   ]
  }
 ],
 "metadata": {
  "kernelspec": {
   "display_name": "Python 3",
   "language": "python",
   "name": "python3"
  },
  "language_info": {
   "codemirror_mode": {
    "name": "ipython",
    "version": 3
   },
   "file_extension": ".py",
   "mimetype": "text/x-python",
   "name": "python",
   "nbconvert_exporter": "python",
   "pygments_lexer": "ipython3",
   "version": "3.8.3"
  },
  "vscode": {
   "interpreter": {
    "hash": "b941bf498f276488674bf31f1b0cc37176298e8d600eb280d450861b05bebb56"
   }
  }
 },
 "nbformat": 4,
 "nbformat_minor": 2
}
