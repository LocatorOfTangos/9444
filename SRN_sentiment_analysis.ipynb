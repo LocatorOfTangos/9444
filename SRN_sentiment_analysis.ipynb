{
 "cells": [
  {
   "cell_type": "markdown",
   "metadata": {},
   "source": [
    "Data sourced from https://www.kaggle.com/datasets/utkarshxy/stock-markettweets-lexicon-data  \n",
    "Some data processing abridged from https://www.kaggle.com/code/juniorbueno/stock-market-sentimen-bert-tokenizer  \n",
    "Various code snippets from COMP9444 assignment 'paraphrased'"
   ]
  },
  {
   "cell_type": "markdown",
   "metadata": {},
   "source": [
    "You will need to install (via pip3): torch, matplotlib, numpy, nltk.  \n",
    "You will also need to run (with python3 in terminal)  \n",
    ">>>import nltk  \n",
    ">>>nltk.download('stopwords')"
   ]
  },
  {
   "cell_type": "code",
   "execution_count": 475,
   "metadata": {},
   "outputs": [],
   "source": [
    "import torch\n",
    "import torch.nn as nn\n",
    "import torch.optim as optim\n",
    "import torch.nn.functional as F\n",
    "import matplotlib.pyplot as plt\n",
    "import numpy as np\n",
    "import csv\n",
    "import re\n",
    "from nltk import stem\n",
    "from nltk.corpus import stopwords\n",
    "from collections import Counter\n",
    "from random import shuffle\n",
    "\n",
    "stemm = stem.porter.PorterStemmer()\n",
    "stops = set(stopwords.words('english'))\n",
    "\n",
    "with open('tweets_labelled.csv', encoding='utf8') as csvfile:\n",
    "    readCSV = csv.reader(csvfile, delimiter=';')\n",
    "    data = list(readCSV)\n",
    "\n",
    "def sentiment_text2vect(sentiment):\n",
    "    if (sentiment == \"positive\"): return [1,0,0]\n",
    "    elif (sentiment == \"neutral\"): return [0,1,0]\n",
    "    else: return [0,0,1]\n",
    "\n",
    "data = list(zip(*data))\n",
    "text = data[2][1:]\n",
    "sentiment = list(map(lambda n: sentiment_text2vect(n), data[3][1:]))"
   ]
  },
  {
   "cell_type": "code",
   "execution_count": 476,
   "metadata": {},
   "outputs": [],
   "source": [
    "# Hyperparameters\n",
    "dict_word_frequency_requirement = 20\n",
    "train_proportion = 0.8\n",
    "hidden_layer_size = 70\n",
    "learning_rate = 0.001\n",
    "#batch_size = 32\n",
    "epochs = 10"
   ]
  },
  {
   "cell_type": "code",
   "execution_count": 477,
   "metadata": {},
   "outputs": [],
   "source": [
    "def clean_tweet(tweet):\n",
    "  tweet = re.sub(r\"@[A-Za-z0-9]+\", ' ', tweet)\n",
    "  tweet = re.sub(r\"https?://[A-Za-z0-9./]+\", ' ', tweet)\n",
    "  tweet = re.sub(r\"[']\", \"\", tweet)\n",
    "  tweet = re.sub(r\"[^a-zA-Z.!?]\", ' ', tweet)\n",
    "  tweet = re.sub(r\"([^a-zA-Z])\", r\" \\1 \", tweet)\n",
    "  tweet = re.sub(r\" +\", ' ', tweet)\n",
    "  tweet = tweet.lower()\n",
    "  return tweet"
   ]
  },
  {
   "cell_type": "code",
   "execution_count": 478,
   "metadata": {},
   "outputs": [],
   "source": [
    "def tokenize(tweet):\n",
    "    tweet = clean_tweet(tweet)\n",
    "    tweet = filter(lambda w: w not in stops, tweet.strip().split())\n",
    "    return list(map(stemm.stem, tweet))"
   ]
  },
  {
   "cell_type": "code",
   "execution_count": 479,
   "metadata": {},
   "outputs": [
    {
     "name": "stdout",
     "output_type": "stream",
     "text": [
      "#SriLanka surcharge on fuel removed!\n",
      "⛽📉\n",
      "The surcharge of Rs.26 imposed on diesel and petrol has been revoked with effect from midnight on June 23 says Power, Energy and Transport Minister Mahinda. Amaraweera -Adaderana-\n",
      "\n",
      "#lka #FuelPrices #taxes #economy #stocks #StockMarket\n",
      "['srilanka', 'surcharg', 'fuel', 'remov', '!', 'surcharg', 'rs', '.', 'impos', 'diesel', 'petrol', 'revok', 'effect', 'midnight', 'june', 'say', 'power', 'energi', 'transport', 'minist', 'mahinda', '.', 'amaraweera', 'adaderana', 'lka', 'fuelpric', 'tax', 'economi', 'stock', 'stockmarket'] positive\n"
     ]
    }
   ],
   "source": [
    "test = text[1]\n",
    "print(test)\n",
    "print(tokenize(test), data[3][1])"
   ]
  },
  {
   "cell_type": "code",
   "execution_count": 480,
   "metadata": {},
   "outputs": [],
   "source": [
    "tokenized_tweets = list(map(tokenize, text))"
   ]
  },
  {
   "cell_type": "code",
   "execution_count": 481,
   "metadata": {},
   "outputs": [],
   "source": [
    "word_count = Counter()\n",
    "for data in tokenized_tweets:\n",
    "    word_count.update(data)\n",
    "\n",
    "vocab = [word for word in word_count if word_count[word] >= dict_word_frequency_requirement]\n",
    "dictionary = {word : i+1 for i, word in enumerate(vocab)}\n",
    "dictionary[None] = 0"
   ]
  },
  {
   "cell_type": "code",
   "execution_count": 482,
   "metadata": {},
   "outputs": [],
   "source": [
    "dictionary_encoded_tweets = [torch.LongTensor(list(map(lambda w : dictionary.get(w, 0), tweet))) for tweet in tokenized_tweets]\n",
    "\n",
    "one_hot_encoded_tweets = list(map(lambda t: F.one_hot(t, len(dictionary)).tolist(), dictionary_encoded_tweets))"
   ]
  },
  {
   "cell_type": "code",
   "execution_count": 483,
   "metadata": {},
   "outputs": [],
   "source": [
    "full_dataset = list(zip(one_hot_encoded_tweets, sentiment))\n",
    "\n",
    "shuffle(full_dataset)\n",
    "\n",
    "train_size = int(train_proportion * len(full_dataset))\n",
    "\n",
    "train_dataset = full_dataset[:train_size]\n",
    "test_dataset = full_dataset[train_size:]\n",
    "\n",
    "train_dataset = list(zip(*train_dataset))\n",
    "test_dataset = list(zip(*test_dataset))\n",
    "\n",
    "tr_data = train_dataset[0]\n",
    "tr_label = train_dataset[1]\n",
    "\n",
    "te_data_tensor = list(map(torch.FloatTensor, test_dataset[0]))\n",
    "te_label_tensor = torch.FloatTensor(test_dataset[1])\n",
    "\n"
   ]
  },
  {
   "cell_type": "code",
   "execution_count": 484,
   "metadata": {},
   "outputs": [],
   "source": [
    "class SRN_model(nn.Module):\n",
    "    def __init__(self, num_input, num_hid, num_out):\n",
    "        super().__init__()\n",
    "        self.num_hid = num_hid\n",
    "        self.batch_size = 1\n",
    "        self.H0= nn.Parameter(torch.Tensor(num_hid))\n",
    "        self.W = nn.Parameter(torch.Tensor(num_input, num_hid))\n",
    "        self.U = nn.Parameter(torch.Tensor(num_hid, num_hid))\n",
    "        self.hid_bias = nn.Parameter(torch.Tensor(num_hid))\n",
    "        self.V = nn.Parameter(torch.Tensor(num_hid, num_out))\n",
    "        self.out_bias = nn.Parameter(torch.Tensor(num_out))\n",
    "\n",
    "        nn.init.zeros_(self.H0)\n",
    "        nn.init.xavier_normal_(self.W)\n",
    "        nn.init.xavier_normal_(self.U)\n",
    "        nn.init.zeros_(self.hid_bias)\n",
    "        nn.init.xavier_normal_(self.V)\n",
    "        nn.init.zeros_(self.out_bias)\n",
    "\n",
    "    def init_hidden(self):\n",
    "        H0 = torch.tanh(self.H0)\n",
    "        return(H0.unsqueeze(0))\n",
    " \n",
    "    def forward(self, seq):\n",
    "        seq_size, _ = seq.size()\n",
    "        h_t = self.init_hidden().to(seq.device)\n",
    "        for t in range(seq_size):\n",
    "            x_t = seq[t]\n",
    "            c_t = x_t @ self.W + h_t @ self.U + self.hid_bias\n",
    "            h_t = torch.tanh(c_t)\n",
    "        output = h_t @ self.V + self.out_bias\n",
    "        return output"
   ]
  },
  {
   "cell_type": "code",
   "execution_count": 485,
   "metadata": {},
   "outputs": [],
   "source": [
    "def train(net, criterion, optimizer, data, label):\n",
    "    net.init_hidden()\n",
    "\n",
    "    output = net(data)\n",
    "    log_prob = F.log_softmax(output, dim=1)\n",
    "    #prob_out = torch.exp(log_prob)\n",
    "    loss = criterion(log_prob[0], label)\n",
    "    \n",
    "    loss.backward()\n",
    "\n",
    "    optimizer.step()\n",
    "\n",
    "    return loss.data.item()"
   ]
  },
  {
   "cell_type": "code",
   "execution_count": 486,
   "metadata": {},
   "outputs": [],
   "source": [
    "def predict(net, test_data, test_label):\n",
    "    correct = 0\n",
    "    for i in range(len(test_data)):\n",
    "        output = net(test_data[i])\n",
    "        if (test_label[i][torch.argmax(output.data)] == 1): correct += 1\n",
    "    return correct"
   ]
  },
  {
   "cell_type": "code",
   "execution_count": 487,
   "metadata": {},
   "outputs": [],
   "source": [
    "net = SRN_model(len(dictionary),hidden_layer_size,3)\n",
    "\n",
    "criterion = F.nll_loss\n",
    "optimizer = optim.Adam(net.parameters(), lr=learning_rate, weight_decay=0.00001)\n",
    "\n",
    "plot_loss = []\n",
    "plot_correct = []"
   ]
  },
  {
   "cell_type": "code",
   "execution_count": 488,
   "metadata": {},
   "outputs": [
    {
     "name": "stdout",
     "output_type": "stream",
     "text": [
      "Epoch 01, loss = 3.121182, accuracy = 10.40%\n",
      "Epoch 02, loss = 5.407312, accuracy = 10.40%\n",
      "Epoch 03, loss = 6.951418, accuracy = 10.40%\n",
      "Epoch 04, loss = 6.345968, accuracy = 10.40%\n",
      "Epoch 05, loss = 4.940992, accuracy = 10.40%\n"
     ]
    },
    {
     "ename": "KeyboardInterrupt",
     "evalue": "",
     "output_type": "error",
     "traceback": [
      "\u001b[1;31m---------------------------------------------------------------------------\u001b[0m",
      "\u001b[1;31mKeyboardInterrupt\u001b[0m                         Traceback (most recent call last)",
      "Cell \u001b[1;32mIn [488], line 12\u001b[0m\n\u001b[0;32m      8\u001b[0m shuffled_training_dataset \u001b[39m=\u001b[39m \u001b[39mlist\u001b[39m(\u001b[39mzip\u001b[39m(\u001b[39m*\u001b[39mfull_training_dataset))\n\u001b[0;32m     10\u001b[0m tr_data_tensor  \u001b[39m=\u001b[39m \u001b[39mlist\u001b[39m(\u001b[39mmap\u001b[39m(torch\u001b[39m.\u001b[39mFloatTensor, shuffled_training_dataset[\u001b[39m0\u001b[39m]))\n\u001b[1;32m---> 12\u001b[0m tr_label_tensor \u001b[39m=\u001b[39m torch\u001b[39m.\u001b[39;49mLongTensor(shuffled_training_dataset[\u001b[39m1\u001b[39;49m])\n\u001b[0;32m     14\u001b[0m \u001b[39mfor\u001b[39;00m i \u001b[39min\u001b[39;00m \u001b[39mrange\u001b[39m(num_examples):\n\u001b[0;32m     15\u001b[0m     loss \u001b[39m+\u001b[39m\u001b[39m=\u001b[39m train(net, criterion, optimizer, tr_data_tensor[i], tr_label_tensor[i])\n",
      "\u001b[1;31mKeyboardInterrupt\u001b[0m: "
     ]
    }
   ],
   "source": [
    "num_examples = len(tr_data)\n",
    "num_batches = num_examples\n",
    "\n",
    "for e in range(epochs):\n",
    "    loss = 0.\n",
    "    full_training_dataset = list(zip(tr_data, tr_label))\n",
    "    shuffle(full_training_dataset)\n",
    "    shuffled_training_dataset = list(zip(*full_training_dataset))\n",
    "\n",
    "    tr_data_tensor  = list(map(torch.FloatTensor, shuffled_training_dataset[0]))\n",
    "    \n",
    "    tr_label_tensor = torch.LongTensor(shuffled_training_dataset[1])\n",
    "\n",
    "    for i in range(num_examples):\n",
    "        loss += train(net, criterion, optimizer, tr_data_tensor[i], tr_label_tensor[i])\n",
    "\n",
    "    correct = predict(net, te_data_tensor, te_label_tensor)\n",
    "    plot_loss.append(loss/num_batches)\n",
    "    plot_correct.append(correct/len(te_data_tensor)*100)\n",
    "    \n",
    "    print(\"Epoch %02d, loss = %f, accuracy = %.2f%%\" % (e+1, loss / num_batches, correct/len(te_data_tensor)*100))"
   ]
  },
  {
   "cell_type": "code",
   "execution_count": null,
   "metadata": {},
   "outputs": [
    {
     "data": {
      "image/png": "[encoded data removed]",
      "text/plain": [
       "<Figure size 640x480 with 1 Axes>"
      ]
     },
     "metadata": {},
     "output_type": "display_data"
    },
    {
     "data": {
      "image/png": "[encoded data removed]",
      "text/plain": [
       "<Figure size 640x480 with 1 Axes>"
      ]
     },
     "metadata": {},
     "output_type": "display_data"
    }
   ],
   "source": [
    "plt.plot(plot_loss)\n",
    "plt.xlabel('Epoch')\n",
    "plt.ylabel('Avg. Loss per Epoch (on Training Set)')\n",
    "plt.show()\n",
    "\n",
    "plt.plot(plot_correct)\n",
    "plt.xlabel('Epoch')\n",
    "plt.ylabel('Accuracy per Epoch (on Test Set)')\n",
    "plt.show()"
   ]
  }
 ],
 "metadata": {
  "kernelspec": {
   "display_name": "Python 3.10.7 64-bit (microsoft store)",
   "language": "python",
   "name": "python3"
  },
  "language_info": {
   "codemirror_mode": {
    "name": "ipython",
    "version": 3
   },
   "file_extension": ".py",
   "mimetype": "text/x-python",
   "name": "python",
   "nbconvert_exporter": "python",
   "pygments_lexer": "ipython3",
   "version": "3.10.8"
  },
  "orig_nbformat": 4,
  "vscode": {
   "interpreter": {
    "hash": "b941bf498f276488674bf31f1b0cc37176298e8d600eb280d450861b05bebb56"
   }
  }
 },
 "nbformat": 4,
 "nbformat_minor": 2
}
