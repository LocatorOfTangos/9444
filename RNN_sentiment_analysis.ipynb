{
 "cells": [
  {
   "cell_type": "markdown",
   "metadata": {},
   "source": [
    "Data sourced from https://www.kaggle.com/datasets/yash612/stockmarket-sentiment-dataset?resource=download. Data processing stolen, abridged from https://www.kaggle.com/code/juniorbueno/stock-market-sentimen-bert-tokenizer"
   ]
  },
  {
   "cell_type": "markdown",
   "metadata": {},
   "source": [
    "You may need to install (via pip3):\n",
    "torch\n",
    "matplotlib\n",
    "numpy\n",
    "nltk"
   ]
  },
  {
   "cell_type": "code",
   "execution_count": 43,
   "metadata": {},
   "outputs": [],
   "source": [
    "import torch\n",
    "import torch.nn as nn\n",
    "import torch.optim as optim\n",
    "from torch.autograd import Variable\n",
    "import torch.nn.functional as F\n",
    "import matplotlib.pyplot as plt\n",
    "import numpy as np\n",
    "import csv\n",
    "import re\n",
    "from nltk import stem\n",
    "from nltk.corpus import stopwords\n",
    "from collections import Counter\n",
    "from copy import deepcopy\n",
    "\n",
    "stemm = stem.porter.PorterStemmer()\n",
    "stops = set(stopwords.words('english'))\n",
    "\n",
    "with open('stock_data.csv', encoding='utf8') as csvfile:\n",
    "    readCSV = csv.reader(csvfile, delimiter=',')\n",
    "    data = list(readCSV)\n",
    "\n",
    "data = list(zip(*data))\n",
    "text = data[0][1:]\n",
    "sentiment = data[1][1:]"
   ]
  },
  {
   "cell_type": "code",
   "execution_count": 44,
   "metadata": {},
   "outputs": [],
   "source": [
    "# Hyperparameters\n",
    "dict_word_frequency_requirement = 5"
   ]
  },
  {
   "cell_type": "code",
   "execution_count": 45,
   "metadata": {},
   "outputs": [],
   "source": [
    "def clean_tweet(tweet):\n",
    "  tweet = re.sub(r\"@[A-Za-z0-9]+\", ' ', tweet)\n",
    "  tweet = re.sub(r\"https?://[A-Za-z0-9./]+\", ' ', tweet)\n",
    "  tweet = re.sub(r\"[']\", \"\", tweet)\n",
    "  tweet = re.sub(r\"[^a-zA-Z.!?]\", ' ', tweet)\n",
    "  tweet = re.sub(r\"([^a-zA-Z])\", r\" \\1 \", tweet)\n",
    "  tweet = re.sub(r\" +\", ' ', tweet)\n",
    "  tweet = tweet.lower()\n",
    "  return tweet"
   ]
  },
  {
   "cell_type": "code",
   "execution_count": 46,
   "metadata": {},
   "outputs": [],
   "source": [
    "def tokenize(tweet):\n",
    "    tweet = clean_tweet(tweet)\n",
    "    tweet = filter(lambda w: w not in stops, tweet.strip().split())\n",
    "    return list(map(stemm.stem, tweet))"
   ]
  },
  {
   "cell_type": "code",
   "execution_count": 47,
   "metadata": {},
   "outputs": [
    {
     "name": "stdout",
     "output_type": "stream",
     "text": [
      "user: AAP MOVIE. 55% return for the FEA/GEED indicator just 15 trades for the year.  AWESOME.  \n",
      "['user', 'aap', 'movi', '.', 'return', 'fea', 'geed', 'indic', 'trade', 'year', '.', 'awesom', '.']\n"
     ]
    }
   ],
   "source": [
    "test = text[1]\n",
    "print(test)\n",
    "print(tokenize(test))"
   ]
  },
  {
   "cell_type": "code",
   "execution_count": 48,
   "metadata": {},
   "outputs": [],
   "source": [
    "tokenized_tweets = map(tokenize, text)"
   ]
  },
  {
   "cell_type": "code",
   "execution_count": 49,
   "metadata": {},
   "outputs": [
    {
     "data": {
      "text/plain": [
       "1690"
      ]
     },
     "execution_count": 49,
     "metadata": {},
     "output_type": "execute_result"
    }
   ],
   "source": [
    "word_count = Counter()\n",
    "for data in deepcopy(tokenized_tweets):\n",
    "    word_count.update(data)\n",
    "\n",
    "vocab = [word for word in word_count if word_count[word] >= dict_word_frequency_requirement]\n",
    "dictionary = {word : i+1 for i, word in enumerate(vocab)}\n",
    "len(dictionary)"
   ]
  },
  {
   "cell_type": "code",
   "execution_count": 50,
   "metadata": {},
   "outputs": [],
   "source": [
    "encoded_tweets = [list(map(lambda w : dictionary.get(w, 0), tweet)) for tweet in tokenized_tweets]\n",
    "encoded_tweets\n",
    "\n",
    "maxNum = len(vocab) + 1\n",
    "binary_encoded_tweets = [[1 if (n in t) else 0 for n in range(maxNum)] for t in encoded_tweets]"
   ]
  }
 ],
 "metadata": {
  "kernelspec": {
   "display_name": "Python 3.10.7 64-bit (microsoft store)",
   "language": "python",
   "name": "python3"
  },
  "language_info": {
   "codemirror_mode": {
    "name": "ipython",
    "version": 3
   },
   "file_extension": ".py",
   "mimetype": "text/x-python",
   "name": "python",
   "nbconvert_exporter": "python",
   "pygments_lexer": "ipython3",
   "version": "3.10.7"
  },
  "orig_nbformat": 4,
  "vscode": {
   "interpreter": {
    "hash": "b941bf498f276488674bf31f1b0cc37176298e8d600eb280d450861b05bebb56"
   }
  }
 },
 "nbformat": 4,
 "nbformat_minor": 2
}
